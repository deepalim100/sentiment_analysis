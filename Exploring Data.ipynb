{
 "cells": [
  {
   "cell_type": "markdown",
   "id": "0d940bf4",
   "metadata": {},
   "source": [
    "## Imports"
   ]
  },
  {
   "cell_type": "code",
   "execution_count": 1,
   "id": "2f92c114",
   "metadata": {},
   "outputs": [
    {
     "name": "stderr",
     "output_type": "stream",
     "text": [
      "/home/deepali/anaconda3/envs/torch_env/lib/python3.7/site-packages/tqdm/auto.py:21: TqdmWarning: IProgress not found. Please update jupyter and ipywidgets. See https://ipywidgets.readthedocs.io/en/stable/user_install.html\n",
      "  from .autonotebook import tqdm as notebook_tqdm\n"
     ]
    }
   ],
   "source": [
    "from transformers.models.auto.tokenization_auto import AutoTokenizer\n",
    "import matplotlib.pyplot as plt\n",
    "from tqdm import tqdm\n",
    "import pandas as pd\n",
    "import numpy as np\n",
    "import os\n",
    "import re"
   ]
  },
  {
   "cell_type": "code",
   "execution_count": 2,
   "id": "cc08bac3",
   "metadata": {},
   "outputs": [],
   "source": [
    "tqdm.pandas()"
   ]
  },
  {
   "cell_type": "markdown",
   "id": "b925490d",
   "metadata": {},
   "source": [
    "## Tokenizer"
   ]
  },
  {
   "cell_type": "code",
   "execution_count": 3,
   "id": "f49bc419",
   "metadata": {},
   "outputs": [],
   "source": [
    "model_name = \"distilroberta-base\"\n",
    "tokenizer = AutoTokenizer.from_pretrained(model_name)"
   ]
  },
  {
   "cell_type": "markdown",
   "id": "b6e5699b",
   "metadata": {},
   "source": [
    "## Loading Data"
   ]
  },
  {
   "cell_type": "code",
   "execution_count": 4,
   "id": "74f1022d",
   "metadata": {},
   "outputs": [
    {
     "data": {
      "text/plain": [
       "['vocab.py',\n",
       " 'train.ipynb',\n",
       " 'train_data.csv',\n",
       " 'Exploring Data.ipynb',\n",
       " 'test_data.csv',\n",
       " 'vocab.json']"
      ]
     },
     "execution_count": 4,
     "metadata": {},
     "output_type": "execute_result"
    }
   ],
   "source": [
    "data_dir =  \"../Data/\"\n",
    "os.listdir(data_dir)"
   ]
  },
  {
   "cell_type": "code",
   "execution_count": 5,
   "id": "d4415943",
   "metadata": {},
   "outputs": [],
   "source": [
    "train_data = pd.read_csv(os.path.join(data_dir, 'train_data.csv'))\n",
    "test_data = pd.read_csv(os.path.join(data_dir, 'test_data.csv'))"
   ]
  },
  {
   "cell_type": "markdown",
   "id": "9501295b",
   "metadata": {},
   "source": [
    "## Processing Text"
   ]
  },
  {
   "cell_type": "code",
   "execution_count": 6,
   "id": "56b6b1a0",
   "metadata": {},
   "outputs": [],
   "source": [
    "def process_text(text: str):\n",
    "    \"\"\"\n",
    "    This removes\n",
    "     - URLs\n",
    "     - Usernames\n",
    "     - Punctations (replace them with  ' ')\n",
    "     - Numbers (replace them with ' ')\n",
    "     - Multiple Spaces together (replace them with ' ')\n",
    "    \"\"\"\n",
    "    text = re.sub(r'http[s]?://\\S+', '', text)\n",
    "    text = re.sub(r' www\\S+', '', text)\n",
    "    text = re.sub(r'@\\S+', '', text)\n",
    "    text = re.sub(r'[^\\w\\s]|[\\d]', ' ', text)\n",
    "    text = re.sub(r'\\s\\s+', ' ', text)\n",
    "    text = text.strip().lower().encode('ascii', 'ignore').decode()\n",
    "    return text"
   ]
  },
  {
   "cell_type": "code",
   "execution_count": 7,
   "id": "f667e8a0",
   "metadata": {},
   "outputs": [],
   "source": [
    "def process_text(text: str):\n",
    "    \"\"\"\n",
    "    This removes\n",
    "    - URLs\n",
    "    - Username\n",
    "    - Punctations (replace them with  ' ')\n",
    "    - Numbers (replace them with  ' ')\n",
    "    - Multiple spaces together (replace them with  ' ')\"\"\"\n",
    "    text = re.sub(r'http[s]?://\\S+', '', text) \n",
    "    text = re.sub(r' www\\S+', '', text)\n",
    "    text = re.sub(r'@\\S+', '', text)\n",
    "    text = re.sub(r'[^\\w\\s]|[\\d]', ' ', text)\n",
    "    text = text.strip().lower().encode('ascii', 'ignore').decode()\n",
    "    return text"
   ]
  },
  {
   "cell_type": "code",
   "execution_count": 8,
   "id": "4bada19b",
   "metadata": {},
   "outputs": [
    {
     "name": "stderr",
     "output_type": "stream",
     "text": [
      "100%|██████████| 1523678/1523678 [00:05<00:00, 259872.66it/s]\n",
      "100%|██████████| 359/359 [00:00<00:00, 196650.79it/s]\n"
     ]
    },
    {
     "data": {
      "text/html": [
       "<div>\n",
       "<style scoped>\n",
       "    .dataframe tbody tr th:only-of-type {\n",
       "        vertical-align: middle;\n",
       "    }\n",
       "\n",
       "    .dataframe tbody tr th {\n",
       "        vertical-align: top;\n",
       "    }\n",
       "\n",
       "    .dataframe thead th {\n",
       "        text-align: right;\n",
       "    }\n",
       "</style>\n",
       "<table border=\"1\" class=\"dataframe\">\n",
       "  <thead>\n",
       "    <tr style=\"text-align: right;\">\n",
       "      <th></th>\n",
       "      <th>sentence</th>\n",
       "      <th>sentiment</th>\n",
       "    </tr>\n",
       "  </thead>\n",
       "  <tbody>\n",
       "    <tr>\n",
       "      <th>0</th>\n",
       "      <td>awww that s a bummer you shoulda got david car...</td>\n",
       "      <td>0</td>\n",
       "    </tr>\n",
       "    <tr>\n",
       "      <th>1</th>\n",
       "      <td>is upset that he can t update his facebook by ...</td>\n",
       "      <td>0</td>\n",
       "    </tr>\n",
       "    <tr>\n",
       "      <th>2</th>\n",
       "      <td>i dived many times for the ball managed to sav...</td>\n",
       "      <td>0</td>\n",
       "    </tr>\n",
       "    <tr>\n",
       "      <th>3</th>\n",
       "      <td>my whole body feels itchy and like its on fire</td>\n",
       "      <td>0</td>\n",
       "    </tr>\n",
       "    <tr>\n",
       "      <th>4</th>\n",
       "      <td>no it s not behaving at all i m mad why am i h...</td>\n",
       "      <td>0</td>\n",
       "    </tr>\n",
       "  </tbody>\n",
       "</table>\n",
       "</div>"
      ],
      "text/plain": [
       "                                            sentence  sentiment\n",
       "0  awww that s a bummer you shoulda got david car...          0\n",
       "1  is upset that he can t update his facebook by ...          0\n",
       "2  i dived many times for the ball managed to sav...          0\n",
       "3     my whole body feels itchy and like its on fire          0\n",
       "4  no it s not behaving at all i m mad why am i h...          0"
      ]
     },
     "execution_count": 8,
     "metadata": {},
     "output_type": "execute_result"
    }
   ],
   "source": [
    "train_data['sentence'] = train_data['sentence'].progress_map(process_text)\n",
    "test_data['sentence'] = test_data['sentence'].progress_map(process_text)\n",
    "train_data.head()"
   ]
  },
  {
   "cell_type": "code",
   "execution_count": 9,
   "id": "fd00a985",
   "metadata": {},
   "outputs": [
    {
     "data": {
      "text/html": [
       "<div>\n",
       "<style scoped>\n",
       "    .dataframe tbody tr th:only-of-type {\n",
       "        vertical-align: middle;\n",
       "    }\n",
       "\n",
       "    .dataframe tbody tr th {\n",
       "        vertical-align: top;\n",
       "    }\n",
       "\n",
       "    .dataframe thead th {\n",
       "        text-align: right;\n",
       "    }\n",
       "</style>\n",
       "<table border=\"1\" class=\"dataframe\">\n",
       "  <thead>\n",
       "    <tr style=\"text-align: right;\">\n",
       "      <th></th>\n",
       "      <th>sentence</th>\n",
       "      <th>sentiment</th>\n",
       "    </tr>\n",
       "  </thead>\n",
       "  <tbody>\n",
       "    <tr>\n",
       "      <th>0</th>\n",
       "      <td>i loooooooovvvvvveee my kindle not that the dx...</td>\n",
       "      <td>1</td>\n",
       "    </tr>\n",
       "    <tr>\n",
       "      <th>1</th>\n",
       "      <td>reading my kindle love it lee childs is good read</td>\n",
       "      <td>1</td>\n",
       "    </tr>\n",
       "    <tr>\n",
       "      <th>2</th>\n",
       "      <td>ok first assesment of the kindle it fucking rocks</td>\n",
       "      <td>1</td>\n",
       "    </tr>\n",
       "    <tr>\n",
       "      <th>3</th>\n",
       "      <td>you ll love your kindle i ve had mine for a fe...</td>\n",
       "      <td>1</td>\n",
       "    </tr>\n",
       "    <tr>\n",
       "      <th>4</th>\n",
       "      <td>fair enough but i have the kindle and i think ...</td>\n",
       "      <td>1</td>\n",
       "    </tr>\n",
       "  </tbody>\n",
       "</table>\n",
       "</div>"
      ],
      "text/plain": [
       "                                            sentence  sentiment\n",
       "0  i loooooooovvvvvveee my kindle not that the dx...          1\n",
       "1  reading my kindle love it lee childs is good read          1\n",
       "2  ok first assesment of the kindle it fucking rocks          1\n",
       "3  you ll love your kindle i ve had mine for a fe...          1\n",
       "4  fair enough but i have the kindle and i think ...          1"
      ]
     },
     "execution_count": 9,
     "metadata": {},
     "output_type": "execute_result"
    }
   ],
   "source": [
    "test_data.head()"
   ]
  },
  {
   "cell_type": "markdown",
   "id": "ba425d28",
   "metadata": {},
   "source": [
    "## Removing Blanks"
   ]
  },
  {
   "cell_type": "code",
   "execution_count": 10,
   "id": "396abfdb",
   "metadata": {},
   "outputs": [],
   "source": [
    "train_data = train_data[train_data['sentence'] != ''].reset_index(drop=True)"
   ]
  },
  {
   "cell_type": "code",
   "execution_count": 11,
   "id": "048b62c9",
   "metadata": {},
   "outputs": [],
   "source": [
    "train_data = train_data[train_data['sentence'] != ''].reset_index(drop=True)"
   ]
  },
  {
   "cell_type": "markdown",
   "id": "9c2f533a",
   "metadata": {},
   "source": [
    "## Removing neutrals from the test_csv"
   ]
  },
  {
   "cell_type": "code",
   "execution_count": 12,
   "id": "86a7c827",
   "metadata": {},
   "outputs": [],
   "source": [
    "test_data = test_data[test_data['sentiment'] > -1].reset_index(drop=True)"
   ]
  },
  {
   "cell_type": "markdown",
   "id": "f6c84835",
   "metadata": {},
   "source": [
    "## Removing Duplicates"
   ]
  },
  {
   "cell_type": "code",
   "execution_count": 13,
   "id": "5e1e1c75",
   "metadata": {},
   "outputs": [
    {
     "name": "stdout",
     "output_type": "stream",
     "text": [
      "Before\n",
      "Duplicates in Train Set: 0\n",
      "Duplicates in Test Set: 0\n",
      "\n",
      "After\n",
      "Duplicates in Train Set: 0\n",
      "Duplicates in Test Set: 0\n"
     ]
    }
   ],
   "source": [
    "print(\"Before\")\n",
    "print(\"Duplicates in Train Set:\", train_data.duplicated().sum())\n",
    "print(\"Duplicates in Test Set:\", test_data.duplicated().sum())\n",
    "\n",
    "print()\n",
    "# There are a few duplicates in the training_set (About 16.309k)\n",
    "train_data = train_data[~train_data.duplicated()].reset_index(drop=True)\n",
    "\n",
    "print(\"After\")\n",
    "print(\"Duplicates in Train Set:\", train_data.duplicated().sum())\n",
    "print(\"Duplicates in Test Set:\", test_data.duplicated().sum())"
   ]
  },
  {
   "cell_type": "markdown",
   "id": "ab8eae80",
   "metadata": {},
   "source": [
    "## Saving Processed Files"
   ]
  },
  {
   "cell_type": "code",
   "execution_count": 16,
   "id": "4ad76613",
   "metadata": {},
   "outputs": [
    {
     "name": "stderr",
     "output_type": "stream",
     "text": [
      "Downloading tokenizer.json: 100%|██████████| 466k/466k [00:00<00:00, 980kB/s]\n",
      "100%|██████████| 1523678/1523678 [01:28<00:00, 17303.91it/s]\n",
      "100%|██████████| 359/359 [00:00<00:00, 16148.03it/s]\n"
     ]
    }
   ],
   "source": [
    "from transformers import AutoTokenizer\n",
    "from tqdm import tqdm  # For progress mapping\n",
    "\n",
    "tqdm.pandas()  # To use progress_map\n",
    "\n",
    "# Initialize your tokenizer\n",
    "tokenizer = AutoTokenizer.from_pretrained(\"bert-base-uncased\")\n",
    "\n",
    "# Define a function to tokenize and pad\n",
    "def tokenize_and_pad(sentence):\n",
    "    return tokenizer(\n",
    "        sentence,\n",
    "        padding='max_length',  # Pads to max length (use `True` for batch padding)\n",
    "        truncation=True,       # Truncate sentences longer than max_length\n",
    "        max_length=128,        # Maximum sequence length\n",
    "        return_tensors=None    # Return Python lists instead of PyTorch tensors\n",
    "    )['input_ids']  # Extract only the input IDs\n",
    "\n",
    "# Apply tokenization and padding\n",
    "train_data['encoded'] = train_data['sentence'].progress_map(tokenize_and_pad)\n",
    "train_data['lengths'] = train_data['encoded'].map(len)\n",
    "\n",
    "test_data['encoded'] = test_data['sentence'].progress_map(tokenize_and_pad)\n",
    "test_data['lengths'] = test_data['encoded'].map(len)\n"
   ]
  },
  {
   "cell_type": "markdown",
   "id": "69dd2720",
   "metadata": {},
   "source": [
    "## Exploring the lengths of sentences"
   ]
  },
  {
   "cell_type": "code",
   "execution_count": 14,
   "id": "a2726ced",
   "metadata": {},
   "outputs": [
    {
     "name": "stderr",
     "output_type": "stream",
     "text": [
      "100%|██████████| 1523678/1523678 [01:00<00:00, 25289.57it/s]\n",
      "100%|██████████| 359/359 [00:00<00:00, 22046.52it/s]\n"
     ]
    }
   ],
   "source": [
    "train_data['encoded'] = train_data['sentence'].progress_map(tokenizer.encode)\n",
    "train_data['lengths'] = train_data['encoded'].map(len)\n",
    "\n",
    "test_data['encoded'] = test_data['sentence'].progress_map(tokenizer.encode)\n",
    "test_data['lengths'] = test_data['encoded'].map(len)"
   ]
  },
  {
   "cell_type": "code",
   "execution_count": null,
   "id": "3d8cce16",
   "metadata": {},
   "outputs": [
    {
     "name": "stdout",
     "output_type": "stream",
     "text": [
      "huggingface/tokenizers: The current process just got forked, after parallelism has already been used. Disabling parallelism to avoid deadlocks...\n",
      "To disable this warning, you can either:\n",
      "\t- Avoid using `tokenizers` before the fork if possible\n",
      "\t- Explicitly set the environment variable TOKENIZERS_PARALLELISM=(true | false)\n"
     ]
    }
   ],
   "source": [
    "# Deleting, if any\n",
    "!rm train_data.csv test_data.csv\n",
    "\n",
    "train_data.to_csv('train_data.csv', index=False)\n",
    "test_data.to_csv('test_data.csv', index=False)"
   ]
  },
  {
   "cell_type": "code",
   "execution_count": 17,
   "id": "5875349e",
   "metadata": {},
   "outputs": [
    {
     "data": {
      "text/html": [
       "<div>\n",
       "<style scoped>\n",
       "    .dataframe tbody tr th:only-of-type {\n",
       "        vertical-align: middle;\n",
       "    }\n",
       "\n",
       "    .dataframe tbody tr th {\n",
       "        vertical-align: top;\n",
       "    }\n",
       "\n",
       "    .dataframe thead th {\n",
       "        text-align: right;\n",
       "    }\n",
       "</style>\n",
       "<table border=\"1\" class=\"dataframe\">\n",
       "  <thead>\n",
       "    <tr style=\"text-align: right;\">\n",
       "      <th></th>\n",
       "      <th>sentence</th>\n",
       "      <th>sentiment</th>\n",
       "      <th>encoded</th>\n",
       "      <th>lengths</th>\n",
       "    </tr>\n",
       "  </thead>\n",
       "  <tbody>\n",
       "    <tr>\n",
       "      <th>0</th>\n",
       "      <td>awww that s a bummer you shoulda got david car...</td>\n",
       "      <td>0</td>\n",
       "      <td>[0, 1584, 33130, 14, 579, 10, 741, 22539, 47, ...</td>\n",
       "      <td>23</td>\n",
       "    </tr>\n",
       "    <tr>\n",
       "      <th>1</th>\n",
       "      <td>is upset that he can t update his facebook by ...</td>\n",
       "      <td>0</td>\n",
       "      <td>[0, 354, 4904, 14, 37, 64, 326, 2935, 39, 1066...</td>\n",
       "      <td>24</td>\n",
       "    </tr>\n",
       "    <tr>\n",
       "      <th>2</th>\n",
       "      <td>i dived many times for the ball managed to sav...</td>\n",
       "      <td>0</td>\n",
       "      <td>[0, 118, 385, 19133, 171, 498, 13, 5, 1011, 23...</td>\n",
       "      <td>19</td>\n",
       "    </tr>\n",
       "    <tr>\n",
       "      <th>3</th>\n",
       "      <td>my whole body feels itchy and like its on fire</td>\n",
       "      <td>0</td>\n",
       "      <td>[0, 4783, 1086, 809, 2653, 24, 17414, 8, 101, ...</td>\n",
       "      <td>13</td>\n",
       "    </tr>\n",
       "    <tr>\n",
       "      <th>4</th>\n",
       "      <td>no it s not behaving at all i m mad why am i h...</td>\n",
       "      <td>0</td>\n",
       "      <td>[0, 2362, 24, 579, 45, 29744, 23, 70, 939, 475...</td>\n",
       "      <td>25</td>\n",
       "    </tr>\n",
       "  </tbody>\n",
       "</table>\n",
       "</div>"
      ],
      "text/plain": [
       "                                            sentence  sentiment  \\\n",
       "0  awww that s a bummer you shoulda got david car...          0   \n",
       "1  is upset that he can t update his facebook by ...          0   \n",
       "2  i dived many times for the ball managed to sav...          0   \n",
       "3     my whole body feels itchy and like its on fire          0   \n",
       "4  no it s not behaving at all i m mad why am i h...          0   \n",
       "\n",
       "                                             encoded  lengths  \n",
       "0  [0, 1584, 33130, 14, 579, 10, 741, 22539, 47, ...       23  \n",
       "1  [0, 354, 4904, 14, 37, 64, 326, 2935, 39, 1066...       24  \n",
       "2  [0, 118, 385, 19133, 171, 498, 13, 5, 1011, 23...       19  \n",
       "3  [0, 4783, 1086, 809, 2653, 24, 17414, 8, 101, ...       13  \n",
       "4  [0, 2362, 24, 579, 45, 29744, 23, 70, 939, 475...       25  "
      ]
     },
     "execution_count": 17,
     "metadata": {},
     "output_type": "execute_result"
    }
   ],
   "source": [
    "train_data.head()"
   ]
  },
  {
   "cell_type": "code",
   "execution_count": 16,
   "id": "de6aec23",
   "metadata": {},
   "outputs": [
    {
     "data": {
      "image/png": "[encoded data removed]",
      "text/plain": [
       "<Figure size 640x480 with 1 Axes>"
      ]
     },
     "metadata": {},
     "output_type": "display_data"
    },
    {
     "data": {
      "image/png": "[encoded data removed]",
      "text/plain": [
       "<Figure size 640x480 with 1 Axes>"
      ]
     },
     "metadata": {},
     "output_type": "display_data"
    }
   ],
   "source": [
    "plt.title(\"Train Data\")\n",
    "train_data['lengths'].plot.hist()\n",
    "plt.show()\n",
    "\n",
    "plt.title(\"Test Data\")\n",
    "test_data['lengths'].plot.hist()\n",
    "plt.show()"
   ]
  },
  {
   "cell_type": "markdown",
   "id": "a9f0d086",
   "metadata": {},
   "source": [
    "## Counting UNK words"
   ]
  },
  {
   "cell_type": "code",
   "execution_count": 15,
   "id": "f2eb29cb",
   "metadata": {},
   "outputs": [
    {
     "name": "stdout",
     "output_type": "stream",
     "text": [
      "There are 0 unk words in train\n",
      "There are 0 unk words in test\n"
     ]
    }
   ],
   "source": [
    "unk_words = sum([tokenizer.unk_token_id in encoded for encoded in train_data['encoded']])\n",
    "print(f\"There are {unk_words} unk words in train\")\n",
    "\n",
    "unk_words = sum([tokenizer.unk_token_id in encoded for encoded in test_data['encoded']])\n",
    "print(f\"There are {unk_words} unk words in test\")"
   ]
  },
  {
   "cell_type": "markdown",
   "id": "fc4b0ba0",
   "metadata": {},
   "source": [
    "## Cheking label counts"
   ]
  },
  {
   "cell_type": "code",
   "execution_count": 18,
   "id": "ca83269f",
   "metadata": {},
   "outputs": [
    {
     "name": "stdout",
     "output_type": "stream",
     "text": [
      "0    766982\n",
      "1    756696\n",
      "Name: sentiment, dtype: int64\n"
     ]
    },
    {
     "data": {
      "text/plain": [
       "<AxesSubplot:>"
      ]
     },
     "execution_count": 18,
     "metadata": {},
     "output_type": "execute_result"
    },
    {
     "data": {
      "image/png": "[encoded data removed]",
      "text/plain": [
       "<Figure size 640x480 with 1 Axes>"
      ]
     },
     "metadata": {},
     "output_type": "display_data"
    }
   ],
   "source": [
    "print(train_data['sentiment'].value_counts())\n",
    "train_data['sentiment'].value_counts().plot.bar()"
   ]
  },
  {
   "cell_type": "code",
   "execution_count": 19,
   "id": "d1fed533",
   "metadata": {},
   "outputs": [
    {
     "name": "stdout",
     "output_type": "stream",
     "text": [
      "1    182\n",
      "0    177\n",
      "Name: sentiment, dtype: int64\n"
     ]
    },
    {
     "data": {
      "text/plain": [
       "<AxesSubplot:>"
      ]
     },
     "execution_count": 19,
     "metadata": {},
     "output_type": "execute_result"
    },
    {
     "data": {
      "image/png": "[encoded data removed]",
      "text/plain": [
       "<Figure size 640x480 with 1 Axes>"
      ]
     },
     "metadata": {},
     "output_type": "display_data"
    }
   ],
   "source": [
    "print(test_data['sentiment'].value_counts())\n",
    "test_data['sentiment'].value_counts().plot.bar()"
   ]
  },
  {
   "cell_type": "markdown",
   "id": "4a75dda8",
   "metadata": {},
   "source": [
    "# Thank You"
   ]
  }
 ],
 "metadata": {
  "kernelspec": {
   "display_name": "torch_env",
   "language": "python",
   "name": "python3"
  },
  "language_info": {
   "codemirror_mode": {
    "name": "ipython",
    "version": 3
   },
   "file_extension": ".py",
   "mimetype": "text/x-python",
   "name": "python",
   "nbconvert_exporter": "python",
   "pygments_lexer": "ipython3",
   "version": "3.7.13"
  }
 },
 "nbformat": 4,
 "nbformat_minor": 5
}
